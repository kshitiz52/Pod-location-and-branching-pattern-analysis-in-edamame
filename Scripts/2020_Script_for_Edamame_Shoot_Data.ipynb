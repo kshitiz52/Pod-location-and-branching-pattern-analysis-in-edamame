{
 "cells": [
  {
   "cell_type": "code",
   "execution_count": 1,
   "id": "sticky-february",
   "metadata": {
    "colab": {
     "base_uri": "https://localhost:8080/"
    },
    "id": "5663a62f",
    "outputId": "a8dcc26b-fbf6-4f08-afce-c7eeca78ca4a"
   },
   "outputs": [],
   "source": [
    "import pandas as pd\n",
    "import numpy as np\n",
    "import pprint\n",
    "import json\n",
    "import math"
   ]
  },
  {
   "cell_type": "code",
   "execution_count": 2,
   "id": "modern-temperature",
   "metadata": {
    "colab": {
     "base_uri": "https://localhost:8080/",
     "height": 661
    },
    "id": "fd3b55a7",
    "outputId": "f50149cc-6bfc-4968-bb2c-8f345ccea823"
   },
   "outputs": [
    {
     "data": {
      "text/plain": [
       "0      [{\"task\":\"T0\",\"task_label\":\"label for images f...\n",
       "1      [{\"task\":\"T0\",\"task_label\":\"label for images f...\n",
       "2      [{\"task\":\"T0\",\"task_label\":\"label for images f...\n",
       "3      [{\"task\":\"T0\",\"task_label\":\"label for images f...\n",
       "4      [{\"task\":\"T0\",\"task_label\":\"label for images f...\n",
       "                             ...                        \n",
       "447    [{\"task\":\"T0\",\"task_label\":\"Label\",\"value\":[{\"...\n",
       "448    [{\"task\":\"T0\",\"task_label\":\"Label\",\"value\":[{\"...\n",
       "449    [{\"task\":\"T0\",\"task_label\":\"Label\",\"value\":[{\"...\n",
       "450    [{\"task\":\"T0\",\"task_label\":\"Label\",\"value\":[{\"...\n",
       "451    [{\"task\":\"T0\",\"task_label\":\"label for images f...\n",
       "Name: annotations, Length: 452, dtype: object"
      ]
     },
     "execution_count": 2,
     "metadata": {},
     "output_type": "execute_result"
    }
   ],
   "source": [
    "pod_df=pd.read_csv('../Inputs/edamame_shoot_architecture_images_2020_classifications.csv')\n",
    "pod_df['annotations']"
   ]
  },
  {
   "cell_type": "code",
   "execution_count": 3,
   "id": "devoted-sydney",
   "metadata": {
    "colab": {
     "base_uri": "https://localhost:8080/"
    },
    "id": "a69648f0",
    "outputId": "f8cb6c85-ed42-49c6-c527-1cab132fc2c6"
   },
   "outputs": [
    {
     "name": "stdout",
     "output_type": "stream",
     "text": [
      "{'task': 'T0', 'task_label': 'label for images from 1-100', 'value': [{'x': 307.3125, 'y': 304.75, 'tool': 3, 'frame': 0, 'details': [], 'tool_label': 'First Pod Height'}, {'x1': 91.3125, 'x2': 155.3125, 'y1': 384.75, 'y2': 39.75, 'tool': 4, 'frame': 0, 'details': [], 'tool_label': 'Length of Vertical Ruler'}, {'x': 291.3125, 'y': 23.75, 'tool': 0, 'frame': 0, 'details': [], 'tool_label': 'Top'}, {'x': 304.3125, 'y': 401.75, 'tool': 1, 'frame': 0, 'details': [], 'tool_label': 'Bottom '}, {'x': 310.3125, 'y': 362.75, 'tool': 5, 'frame': 0, 'details': [], 'tool_label': 'Branching Points'}, {'x': 299.3125, 'y': 325.75, 'tool': 5, 'frame': 0, 'details': [], 'tool_label': 'Branching Points'}, {'x1': 305.3125, 'x2': 298.3125, 'y1': 399.75, 'y2': 164.75, 'tool': 2, 'frame': 0, 'details': [], 'tool_label': 'Plant Length'}, {'x': 304.3125, 'y': 223.75, 'tool': 5, 'frame': 0, 'details': [], 'tool_label': 'Branching Points'}, {'x': 296.3125, 'y': 160.75, 'tool': 5, 'frame': 0, 'details': [], 'tool_label': 'Branching Points'}, {'x1': 292.3125, 'x2': 268.3125, 'y1': 163.75, 'y2': 86.75, 'tool': 2, 'frame': 0, 'details': [], 'tool_label': 'Plant Length'}, {'x1': 263.3125, 'x2': 290.3125, 'y1': 81.75, 'y2': 25.75, 'tool': 2, 'frame': 0, 'details': [], 'tool_label': 'Plant Length'}]}\n",
      "[{'x': 307.3125, 'y': 304.75, 'tool': 3, 'frame': 0, 'details': [], 'tool_label': 'First Pod Height'}, {'x1': 91.3125, 'x2': 155.3125, 'y1': 384.75, 'y2': 39.75, 'tool': 4, 'frame': 0, 'details': [], 'tool_label': 'Length of Vertical Ruler'}, {'x': 291.3125, 'y': 23.75, 'tool': 0, 'frame': 0, 'details': [], 'tool_label': 'Top'}, {'x': 304.3125, 'y': 401.75, 'tool': 1, 'frame': 0, 'details': [], 'tool_label': 'Bottom '}, {'x': 310.3125, 'y': 362.75, 'tool': 5, 'frame': 0, 'details': [], 'tool_label': 'Branching Points'}, {'x': 299.3125, 'y': 325.75, 'tool': 5, 'frame': 0, 'details': [], 'tool_label': 'Branching Points'}, {'x1': 305.3125, 'x2': 298.3125, 'y1': 399.75, 'y2': 164.75, 'tool': 2, 'frame': 0, 'details': [], 'tool_label': 'Plant Length'}, {'x': 304.3125, 'y': 223.75, 'tool': 5, 'frame': 0, 'details': [], 'tool_label': 'Branching Points'}, {'x': 296.3125, 'y': 160.75, 'tool': 5, 'frame': 0, 'details': [], 'tool_label': 'Branching Points'}, {'x1': 292.3125, 'x2': 268.3125, 'y1': 163.75, 'y2': 86.75, 'tool': 2, 'frame': 0, 'details': [], 'tool_label': 'Plant Length'}, {'x1': 263.3125, 'x2': 290.3125, 'y1': 81.75, 'y2': 25.75, 'tool': 2, 'frame': 0, 'details': [], 'tool_label': 'Plant Length'}]\n"
     ]
    }
   ],
   "source": [
    "pod_annotations = pod_df['annotations'] #annotation information\n",
    "pod_single = json.loads(pod_annotations[0])[0]# annotation information of a single (last) image\n",
    "print(pod_single)\n",
    "value_single = pod_single['value']# values of annotation information of a single (last) image, excludes the header/coumnn names\n",
    "print(value_single)"
   ]
  },
  {
   "cell_type": "code",
   "execution_count": 4,
   "id": "western-obligation",
   "metadata": {
    "id": "ahy7Kh-26eto"
   },
   "outputs": [],
   "source": [
    "def distance(point1,point2):\n",
    "  x1,y1 = point1\n",
    "  x2,y2 = point2 \n",
    "  return ((x1-x2)**2 + (y1-y2)**2 )**0.5\n",
    "\n",
    "#parse from dict and get top, bottom, branching points and ruler as a tuple\n",
    "def parseData(value):\n",
    "  data = dict()\n",
    "  data['top'] = ()\n",
    "  data['bottom'] = ()\n",
    "  data['branching_points'] = []\n",
    "  data['ruler']=()\n",
    "  data['plant_length_points'] = []\n",
    "  for args in value: \n",
    "    if args['tool_label'].strip() == 'Top':\n",
    "      data['top'] = (args['x'],args['y'])#cartesian values of top of the plant\n",
    "    if args['tool_label'].strip() == 'Bottom':\n",
    "      data['bottom'] = (args['x'],args['y'])#cartesian values of bottom of the plant\n",
    "    if args['tool_label'].strip() == 'Branching Points':\n",
    "      data['branching_points'].append( (args['x'],args['y']))# There are many branching points so the information is in the form of list \n",
    "    if args['tool_label'].strip() == 'Length of Vertical Ruler':\n",
    "      data['ruler'] = ((args['x1'],args['y1']), (args['x2'],args['y2'])) #cartesian values of the two extreme points of the ruler\n",
    "    if args['tool_label'].strip() =='First Pod Height':\n",
    "        data['first_pod'] = (args['x'],args['y'])#cartesian values of First Pod Height\n",
    "    if args['tool_label'] == 'Plant Length':\n",
    "        data['plant_length_points'].append([(args['x1'],args['y1']),(args['x2'],args['y2'])])#cartesian values of Plant Length\n",
    "  return data"
   ]
  },
  {
   "cell_type": "code",
   "execution_count": 5,
   "id": "dying-evans",
   "metadata": {
    "colab": {
     "base_uri": "https://localhost:8080/"
    },
    "id": "H-n7LPi695Ml",
    "outputId": "9b78e54c-acf2-44b5-af19-9be129fbd114"
   },
   "outputs": [
    {
     "data": {
      "text/plain": [
       "{'top': (291.3125, 23.75),\n",
       " 'bottom': (304.3125, 401.75),\n",
       " 'branching_points': [(310.3125, 362.75),\n",
       "  (299.3125, 325.75),\n",
       "  (304.3125, 223.75),\n",
       "  (296.3125, 160.75)],\n",
       " 'ruler': ((91.3125, 384.75), (155.3125, 39.75)),\n",
       " 'plant_length_points': [[(305.3125, 399.75), (298.3125, 164.75)],\n",
       "  [(292.3125, 163.75), (268.3125, 86.75)],\n",
       "  [(263.3125, 81.75), (290.3125, 25.75)]],\n",
       " 'first_pod': (307.3125, 304.75)}"
      ]
     },
     "execution_count": 5,
     "metadata": {},
     "output_type": "execute_result"
    }
   ],
   "source": [
    "parseData(value_single)\n"
   ]
  },
  {
   "cell_type": "code",
   "execution_count": 6,
   "id": "sophisticated-breeding",
   "metadata": {
    "colab": {
     "base_uri": "https://localhost:8080/"
    },
    "id": "IfQulWm3-jY4",
    "outputId": "7f55a018-99ff-4c16-8aa3-6a5a7856b909"
   },
   "outputs": [
    {
     "name": "stdout",
     "output_type": "stream",
     "text": [
      "calculated Values for this data point viz. (Plant_Ht, FIL, # of Branches,Plant Length, First pod height, Average internode)\n",
      "(98.62874612185593, 10.28961992563936, 4, 98.55141724065878, 25.29453856579815, 13.314112779382786)\n"
     ]
    }
   ],
   "source": [
    "def calculateHeight(single_data, ruler_length=91.5):\n",
    "  data = parseData(single_data)#merge all data into a single_data\n",
    "  length_cm = 90.5\n",
    "  if len(data['ruler']) != 2 or len(data['bottom'])!=2 or len(data['top'])!=2: #Return -1 if the data points of the ruler, top, bottom are not exactly equal to 2\n",
    "    return (0,0,0,0,0,0)\n",
    "\n",
    "  cm_to_pixel_length = 91.5 / distance(data['ruler'][0],data['ruler'][1])# to convert pixels of ruler length to cm\n",
    "    \n",
    "  branching_points_with_dist = data['branching_points'].copy()\n",
    "  branch_count = len(data['branching_points'])\n",
    "  #arrange branches in order from bottom\n",
    "  # average_internode = 0\n",
    "  for i in range(branch_count):\n",
    "    branch = data['branching_points'][i]\n",
    "    if len(branch)!= 2:\n",
    "      return (0,0,0,0,0,0)\n",
    "    dist = distance(data['bottom'], branch)*cm_to_pixel_length\n",
    "    branching_points_with_dist[i] = (dist,branch)# Calculates the length of each branchng points from the bottom of the plant\n",
    "\n",
    "  branching_points_with_dist.sort()\n",
    "\n",
    "  plant_height_in_pixel = distance(data['top'],data['bottom'])# plant height or the distance between top and bottom of the plant in pixel\n",
    "  plant_height_in_cm = cm_to_pixel_length * plant_height_in_pixel #plant height in cm\n",
    "  \n",
    "  #plant length calculation\n",
    "  plant_length = 0\n",
    "  for i in data['plant_length_points']:\n",
    "    if len(i) != 2:\n",
    "        plant_length += 0\n",
    "    else:\n",
    "        p1 = i[0]\n",
    "        p2 = i[1]\n",
    "        plant_length +=  distance(p1,p2)\n",
    "  # print(branching_points_with_dist) #length in cm\n",
    "  # print(plant_height_in_cm) #height in cm\n",
    "  plant_length_in_cm = cm_to_pixel_length*plant_length\n",
    "  #first pod length calculation \n",
    "  if len(data['first_pod']) == 2:\n",
    "    first_pod_length = abs(data['bottom'][1] - data['first_pod'][1]) * cm_to_pixel_length\n",
    "  else:\n",
    "    first_pod_length = -1\n",
    "     \n",
    "  #internode average length\n",
    "  s = 0\n",
    "  for i in range(branch_count - 1):\n",
    "    s += distance(branching_points_with_dist[i][1],branching_points_with_dist[i+1][1])*cm_to_pixel_length\n",
    "  \n",
    "\n",
    "  if branch_count == 0:# for the unbranchd plants\n",
    "    first_branch_length = 0\n",
    "    average_internode = 0\n",
    "  else:\n",
    "    first_branch_length = branching_points_with_dist[0][0]# length of first branch from the bottom of the plant which is the First Internode length\n",
    "    average_internode = s/branch_count\n",
    "  return (plant_height_in_cm, first_branch_length, branch_count,plant_length_in_cm,first_pod_length,average_internode)\n",
    "  \n",
    "#print(\"For this data point\")\n",
    "#print(value_single)\n",
    "print(\"calculated Values for this data point viz. (Plant_Ht, FIL, # of Branches,Plant Length, First pod height, Average internode)\")\n",
    "print(calculateHeight(value_single))"
   ]
  },
  {
   "cell_type": "code",
   "execution_count": 7,
   "id": "extra-hydrogen",
   "metadata": {
    "id": "fD94ov3VCfyk"
   },
   "outputs": [],
   "source": [
    "def heightCalculator(single_row,type='all'):\n",
    "  annotation = single_row['annotations']\n",
    "  single_data = json.loads(annotation)[0]\n",
    "  # print(single_data)\n",
    "  if not single_data['task'] == 'T0':\n",
    "    output = (-1,-1,-1,-1,-1,-1)\n",
    "  else:\n",
    "    output =  calculateHeight(single_data['value'])\n",
    "  if type=='plant_height':\n",
    "    return output[0]\n",
    "  if type == 'first_branch_height':\n",
    "    return output[1]\n",
    "  if type=='branch_count':\n",
    "    return output[2]\n",
    "  if type=='plant_length':\n",
    "        return output[3]\n",
    "  if type=='first_pod_height':\n",
    "        return output[4]\n",
    "  if type=='average_internode_length':\n",
    "        return output[5]\n",
    "  return output"
   ]
  },
  {
   "cell_type": "code",
   "execution_count": 8,
   "id": "precise-result",
   "metadata": {
    "id": "zpGpnVlgRThB"
   },
   "outputs": [],
   "source": [
    "def parseName(single_row):\n",
    "  subject = json.loads(single_row['subject_data'])\n",
    "  return subject[list(subject.keys())[0]]['Filename']"
   ]
  },
  {
   "cell_type": "code",
   "execution_count": 9,
   "id": "appreciated-pantyhose",
   "metadata": {
    "colab": {
     "base_uri": "https://localhost:8080/"
    },
    "id": "arfrdSkXKvaH",
    "outputId": "1f812f4a-e4aa-49fa-a5d5-79400ba61be8"
   },
   "outputs": [
    {
     "data": {
      "text/html": [
       "<div>\n",
       "<style scoped>\n",
       "    .dataframe tbody tr th:only-of-type {\n",
       "        vertical-align: middle;\n",
       "    }\n",
       "\n",
       "    .dataframe tbody tr th {\n",
       "        vertical-align: top;\n",
       "    }\n",
       "\n",
       "    .dataframe thead th {\n",
       "        text-align: right;\n",
       "    }\n",
       "</style>\n",
       "<table border=\"1\" class=\"dataframe\">\n",
       "  <thead>\n",
       "    <tr style=\"text-align: right;\">\n",
       "      <th></th>\n",
       "      <th>Filename</th>\n",
       "      <th>plant_height</th>\n",
       "      <th>first_branch_height</th>\n",
       "      <th>branch_count</th>\n",
       "      <th>plant_length</th>\n",
       "      <th>first_pod_height</th>\n",
       "      <th>average_internode_length</th>\n",
       "    </tr>\n",
       "  </thead>\n",
       "  <tbody>\n",
       "    <tr>\n",
       "      <th>0</th>\n",
       "      <td>IMG_0776.jpg</td>\n",
       "      <td>98.628746</td>\n",
       "      <td>10.289620</td>\n",
       "      <td>4</td>\n",
       "      <td>98.551417</td>\n",
       "      <td>25.294539</td>\n",
       "      <td>13.314113</td>\n",
       "    </tr>\n",
       "    <tr>\n",
       "      <th>1</th>\n",
       "      <td>IMG_1066.jpg</td>\n",
       "      <td>116.458769</td>\n",
       "      <td>9.301270</td>\n",
       "      <td>5</td>\n",
       "      <td>116.016184</td>\n",
       "      <td>15.845817</td>\n",
       "      <td>5.059101</td>\n",
       "    </tr>\n",
       "    <tr>\n",
       "      <th>2</th>\n",
       "      <td>IMG_0850.jpg</td>\n",
       "      <td>90.576032</td>\n",
       "      <td>6.861124</td>\n",
       "      <td>8</td>\n",
       "      <td>85.629660</td>\n",
       "      <td>7.644391</td>\n",
       "      <td>4.079359</td>\n",
       "    </tr>\n",
       "    <tr>\n",
       "      <th>3</th>\n",
       "      <td>IMG_1008.jpg</td>\n",
       "      <td>106.427281</td>\n",
       "      <td>18.684691</td>\n",
       "      <td>5</td>\n",
       "      <td>100.703973</td>\n",
       "      <td>15.333792</td>\n",
       "      <td>6.690553</td>\n",
       "    </tr>\n",
       "    <tr>\n",
       "      <th>4</th>\n",
       "      <td>IMG_1056.jpg</td>\n",
       "      <td>97.045513</td>\n",
       "      <td>12.487020</td>\n",
       "      <td>4</td>\n",
       "      <td>89.864338</td>\n",
       "      <td>11.618995</td>\n",
       "      <td>2.993315</td>\n",
       "    </tr>\n",
       "  </tbody>\n",
       "</table>\n",
       "</div>"
      ],
      "text/plain": [
       "       Filename  plant_height  first_branch_height  branch_count  \\\n",
       "0  IMG_0776.jpg     98.628746            10.289620             4   \n",
       "1  IMG_1066.jpg    116.458769             9.301270             5   \n",
       "2  IMG_0850.jpg     90.576032             6.861124             8   \n",
       "3  IMG_1008.jpg    106.427281            18.684691             5   \n",
       "4  IMG_1056.jpg     97.045513            12.487020             4   \n",
       "\n",
       "   plant_length  first_pod_height  average_internode_length  \n",
       "0     98.551417         25.294539                 13.314113  \n",
       "1    116.016184         15.845817                  5.059101  \n",
       "2     85.629660          7.644391                  4.079359  \n",
       "3    100.703973         15.333792                  6.690553  \n",
       "4     89.864338         11.618995                  2.993315  "
      ]
     },
     "execution_count": 9,
     "metadata": {},
     "output_type": "execute_result"
    }
   ],
   "source": [
    "output = pd.DataFrame()\n",
    "output['Filename'] = pod_df.apply(parseName,axis=1)\n",
    "params = pod_df.apply(heightCalculator,axis=1)\n",
    "# print(params.head())\n",
    "output['plant_height'] = pod_df.apply(heightCalculator,axis=1,args=('plant_height',))\n",
    "output['first_branch_height'] = pod_df.apply(heightCalculator,axis=1,args=('first_branch_height',))\n",
    "output['branch_count'] = pod_df.apply(heightCalculator,axis=1,args=('branch_count',))\n",
    "output['plant_length'] = pod_df.apply(heightCalculator,axis=1,args=('plant_length',))\n",
    "output['first_pod_height'] = pod_df.apply(heightCalculator,axis=1,args=('first_pod_height',))\n",
    "output['average_internode_length'] = pod_df.apply(heightCalculator,axis=1,args=('average_internode_length',))\n",
    "\n",
    "output['plant_length'] #.head() #new dataframe with an extra column of heights\n",
    "\n",
    "output.head()"
   ]
  },
  {
   "cell_type": "code",
   "execution_count": 10,
   "id": "grave-procedure",
   "metadata": {},
   "outputs": [],
   "source": [
    "import matplotlib.pyplot as plt"
   ]
  },
  {
   "cell_type": "code",
   "execution_count": 11,
   "id": "major-adjustment",
   "metadata": {},
   "outputs": [
    {
     "data": {
      "text/plain": [
       "(452, 7)"
      ]
     },
     "execution_count": 11,
     "metadata": {},
     "output_type": "execute_result"
    }
   ],
   "source": [
    "output.shape"
   ]
  },
  {
   "cell_type": "code",
   "execution_count": 12,
   "id": "reverse-refrigerator",
   "metadata": {},
   "outputs": [
    {
     "data": {
      "text/plain": [
       "Filename                    0\n",
       "plant_height                0\n",
       "first_branch_height         0\n",
       "branch_count                0\n",
       "plant_length                0\n",
       "first_pod_height            0\n",
       "average_internode_length    0\n",
       "dtype: int64"
      ]
     },
     "execution_count": 12,
     "metadata": {},
     "output_type": "execute_result"
    }
   ],
   "source": [
    "output.isna().sum()"
   ]
  },
  {
   "cell_type": "code",
   "execution_count": 13,
   "id": "wound-triumph",
   "metadata": {},
   "outputs": [],
   "source": [
    "output.to_csv(\"../Outputs/Edamame_shoot_architecture_output_data_2020.csv\")"
   ]
  }
 ],
 "metadata": {
  "colab": {
   "collapsed_sections": [],
   "name": "KD1.ipynb",
   "provenance": []
  },
  "kernelspec": {
   "display_name": "Python 3",
   "language": "python",
   "name": "python3"
  },
  "language_info": {
   "codemirror_mode": {
    "name": "ipython",
    "version": 3
   },
   "file_extension": ".py",
   "mimetype": "text/x-python",
   "name": "python",
   "nbconvert_exporter": "python",
   "pygments_lexer": "ipython3",
   "version": "3.8.6"
  }
 },
 "nbformat": 4,
 "nbformat_minor": 5
}
